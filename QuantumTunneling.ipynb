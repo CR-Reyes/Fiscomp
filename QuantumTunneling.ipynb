{
  "nbformat": 4,
  "nbformat_minor": 0,
  "metadata": {
    "colab": {
      "name": "QuantumTunneling.ipynb",
      "provenance": [],
      "collapsed_sections": [],
      "authorship_tag": "ABX9TyMattihEWPzriPnxKO+WI/g",
      "include_colab_link": true
    },
    "kernelspec": {
      "name": "python3",
      "display_name": "Python 3"
    }
  },
  "cells": [
    {
      "cell_type": "markdown",
      "metadata": {
        "id": "view-in-github",
        "colab_type": "text"
      },
      "source": [
        "<a href=\"https://colab.research.google.com/github/CR-Reyes/Fiscomp/blob/master/QuantumTunneling.ipynb\" target=\"_parent\"><img src=\"https://colab.research.google.com/assets/colab-badge.svg\" alt=\"Open In Colab\"/></a>"
      ]
    },
    {
      "cell_type": "markdown",
      "metadata": {
        "id": "uK422EMPloXw",
        "colab_type": "text"
      },
      "source": [
        "# Tunelamiento cuántico\n",
        "\n",
        "Esta actividad explora el fenómeno cuántico de tunelamiento que ocurre cuando un estado cuántico atraviesa una barrera de potencial de una energía mayor a la suya. En primer lugar importo las librerías necesarias para graficar y hacer los cómputos numéricos. De igual manera, inicializo las constantes del programa y muestro el potencial con el que el estado va a interactuar."
      ]
    },
    {
      "cell_type": "code",
      "metadata": {
        "id": "tgNcKfE8lT-m",
        "colab_type": "code",
        "colab": {
          "base_uri": "https://localhost:8080/",
          "height": 269
        },
        "outputId": "33b9a908-aaab-4001-bf5b-67323e27659c"
      },
      "source": [
        "import numpy as np\n",
        "import matplotlib.pyplot as plt\n",
        "%matplotlib inline\n",
        "import scipy.linalg as la\n",
        "\n",
        "# Constantes\n",
        "win = 1                     #ventana numérica\n",
        "n = 100                    #no. de puntos\n",
        "x = np.linspace(0, win, n)  #vector de posición\n",
        "V = np.zeros(n)             #vector de potencial\n",
        "V[round(4*n/5)] = 1e3       #introduzco un pico de potencial\n",
        "\n",
        "# Gráfica\n",
        "plt.plot(x, V)\n",
        "plt.axis([0, 1, 0, 1])\n",
        "plt.show()"
      ],
      "execution_count": 1,
      "outputs": [
        {
          "output_type": "display_data",
          "data": {
            "image/png": "[encoded data removed]",
            "text/plain": [
              "<Figure size 432x288 with 1 Axes>"
            ]
          },
          "metadata": {
            "tags": [],
            "needs_background": "light"
          }
        }
      ]
    },
    {
      "cell_type": "code",
      "metadata": {
        "id": "K5WU3c0vmEhM",
        "colab_type": "code",
        "colab": {}
      },
      "source": [
        "# Natural -> Matriz NxN\n",
        "# produce el operador matricial de segunda derivada para\n",
        "#   vectores de tamaño N \n",
        "def dy2d2x(n):\n",
        "    matrix = np.zeros([n, n])\n",
        "    diagonal = np.ones(n)\n",
        "    matrix += np.diag(diagonal[1:], -1)\n",
        "    matrix += np.diag(diagonal[1:], 1)\n",
        "    matrix += np.diag(diagonal * 2, 0)\n",
        "    return matrix\n",
        "\n",
        "# Natural -> Vector\n",
        "# produce un snapshot de la distribución de probabilidad\n",
        "#   que evoluciona en función del Hamiltoniano ∇^2+V(x)\n",
        "def pdf(t):\n",
        "    global n, x, V\n",
        "    H = dy2d2x(n) + np.diag(V, 0)\n",
        "    gausspulse = np.exp(-500*(x-.6)**2) * np.exp(1000j * x)\n",
        "    pdf = np.abs(la.expm(-1j*H*t) @ gausspulse)**2\n",
        "    return pdf"
      ],
      "execution_count": 2,
      "outputs": []
    },
    {
      "cell_type": "code",
      "metadata": {
        "id": "ZPxwtt8gnMmS",
        "colab_type": "code",
        "colab": {
          "base_uri": "https://localhost:8080/",
          "height": 269
        },
        "outputId": "14667533-08d8-4727-9b69-e3191201302c"
      },
      "source": [
        "import matplotlib.animation as animation\n",
        "\n",
        "#inicializar gráfica\n",
        "fig, ax = plt.subplots()\n",
        "line, = ax.plot(x, pdf(0))\n",
        "ax.axis([0, 1, 0, 1])\n",
        "ax.plot(x, V)\n",
        "\n",
        "def init():  #limpiar\n",
        "    line.set_ydata([np.nan] * len(x))\n",
        "    return line,\n",
        "\n",
        "def animate(i):\n",
        "    line.set_ydata(pdf(i))  #actualizar\n",
        "    return line,\n",
        "\n",
        "ani = animation.FuncAnimation(\n",
        "    fig, animate, frames=int(1e3), init_func=init,\n",
        "    interval=20, blit=True, save_count=50)\n",
        "\n",
        "ani.save(\"tunneling.mp4\")\n",
        "plt.show()"
      ],
      "execution_count": 4,
      "outputs": [
        {
          "output_type": "display_data",
          "data": {
            "image/png": "[encoded data removed]",
            "text/plain": [
              "<Figure size 432x288 with 1 Axes>"
            ]
          },
          "metadata": {
            "tags": [],
            "needs_background": "light"
          }
        }
      ]
    }
  ]
}