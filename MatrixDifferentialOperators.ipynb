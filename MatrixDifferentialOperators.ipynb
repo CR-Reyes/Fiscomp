{
  "nbformat": 4,
  "nbformat_minor": 0,
  "metadata": {
    "colab": {
      "name": "MatrixDifferentialOperators.ipynb",
      "provenance": [],
      "include_colab_link": true
    },
    "kernelspec": {
      "name": "python3",
      "display_name": "Python 3"
    }
  },
  "cells": [
    {
      "cell_type": "markdown",
      "metadata": {
        "id": "view-in-github",
        "colab_type": "text"
      },
      "source": [
        "<a href=\"https://colab.research.google.com/github/CR-Reyes/Fiscomp/blob/master/MatrixDifferentialOperators.ipynb\" target=\"_parent\"><img src=\"https://colab.research.google.com/assets/colab-badge.svg\" alt=\"Open In Colab\"/></a>"
      ]
    },
    {
      "cell_type": "markdown",
      "metadata": {
        "id": "q9MtldRYQapJ",
        "colab_type": "text"
      },
      "source": [
        "# Pozo de potencial finito en 1D\n",
        "\n",
        "Se resolverá numéricamente el problema del pozo de potencial finito:\n",
        "$$\\hat{H}\\Psi=E\\Psi$$\n",
        "\n",
        "Donde $H = -\\frac{h^2}{2m}\\Delta + V(x)$ siendo que $V(x)$ es $C$ en todos lados menos cuando $-a<x<a$.\n",
        "\n",
        "Se uilizará una derivación con operadores matriciales construidos a través de la derivada numérica central de primer orden:\n",
        "$$f'(x) = \\frac{f(x_{+1})-f(x_{-1})}{h}$$"
      ]
    },
    {
      "cell_type": "code",
      "metadata": {
        "id": "OVlCKpuiQWTa",
        "colab_type": "code",
        "colab": {}
      },
      "source": [
        "# importando modulos necesarios\n",
        "%matplotlib inline\n",
        "\n",
        "import matplotlib.pyplot as plt\n",
        "import numpy as np\n",
        "import scipy.linalg as la\n",
        "import sympy"
      ],
      "execution_count": 1,
      "outputs": []
    },
    {
      "cell_type": "markdown",
      "metadata": {
        "id": "izIB1sJfuCZM",
        "colab_type": "text"
      },
      "source": [
        "A continuación, defino una función para generar una matriz $n\\times n$ que funcione como operador diferencial de segundo orden respecto a la posición. En una dimensión este operador es equivalente al Laplaciano que forma parte del Hamiltoniano, junto con el potencial $V(x)$."
      ]
    },
    {
      "cell_type": "code",
      "metadata": {
        "id": "EkeGRSNmTl0H",
        "colab_type": "code",
        "colab": {
          "base_uri": "https://localhost:8080/",
          "height": 167
        },
        "outputId": "6a238e0e-49ce-4e60-e8bb-b9993632159c"
      },
      "source": [
        "# Natural -> Matriz NxN\n",
        "# produce el operador matricial de segunda derivada para\n",
        "#   vectores de tamaño N \n",
        "def dy2d2x(n):\n",
        "    matrix = np.zeros([n, n])\n",
        "    diagonal = np.ones(n)\n",
        "    matrix += np.diag(diagonal[1:], -1)\n",
        "    matrix += np.diag(diagonal[1:], 1)\n",
        "    matrix += np.diag(diagonal * 2, 0)\n",
        "    return matrix\n",
        "\n",
        "V = np.ones((1, n))\n",
        "mid = round(n/2)\n",
        "space = 300\n",
        "V[0,mid-space:mid+space] = 0\n",
        "\n",
        "H = -dy2d2x(1000) + np.diag(V[0])\n",
        "print(\"This is the second differential operator\")\n",
        "print(Diff)"
      ],
      "execution_count": 2,
      "outputs": [
        {
          "output_type": "stream",
          "text": [
            "This is the second differential operator\n",
            "[[-2.  1.  0. ...  0.  0.  1.]\n",
            " [ 1. -2.  1. ...  0.  0.  0.]\n",
            " [ 0.  1. -2. ...  0.  0.  0.]\n",
            " ...\n",
            " [ 0.  0.  0. ... -2.  1.  0.]\n",
            " [ 0.  0.  0. ...  1. -2.  1.]\n",
            " [ 1.  0.  0. ...  0.  1. -2.]]\n"
          ],
          "name": "stdout"
        }
      ]
    },
    {
      "cell_type": "markdown",
      "metadata": {
        "id": "k0u5fjpju4Rk",
        "colab_type": "text"
      },
      "source": [
        "La siguiente celda hace el trabajo computacional más intenso al obtener los eigenvalores y eigenfunciones de la matriz que representa al Hamiltoniano."
      ]
    },
    {
      "cell_type": "code",
      "metadata": {
        "id": "WmxTIXMQSPR-",
        "colab_type": "code",
        "colab": {}
      },
      "source": [
        "#producimos eigenvalores y eigenvectores de una matriz hermitiana\n",
        "eigval, eigvect = la.eigh(H)"
      ],
      "execution_count": 3,
      "outputs": []
    },
    {
      "cell_type": "markdown",
      "metadata": {
        "id": "OfZUGaY6vHGU",
        "colab_type": "text"
      },
      "source": [
        "Finalmente, al graficar las eigenfunciones obtenidas en el paso anterior producimos la función de estado estacionario esperada, tal como se espera para un pozo de potencial."
      ]
    },
    {
      "cell_type": "code",
      "metadata": {
        "id": "Zld_ojQDh_HW",
        "colab_type": "code",
        "colab": {
          "base_uri": "https://localhost:8080/",
          "height": 279
        },
        "outputId": "1eee3a45-894b-4805-9bed-000dfe72e17e"
      },
      "source": [
        "x = np.linspace(-1, 1, np.size(eigvect[:, 0]))\n",
        "plt.plot(x, eigvect[:, 1]) #se toma el segundo estado estacionario\n",
        "plt.xlabel(\"x\")\n",
        "plt.ylabel(\"$\\Psi_1(x)$\")\n",
        "plt.show()"
      ],
      "execution_count": 8,
      "outputs": [
        {
          "output_type": "display_data",
          "data": {
            "image/png": "[encoded data removed]",
            "text/plain": [
              "<Figure size 432x288 with 1 Axes>"
            ]
          },
          "metadata": {
            "tags": [],
            "needs_background": "light"
          }
        }
      ]
    }
  ]
}