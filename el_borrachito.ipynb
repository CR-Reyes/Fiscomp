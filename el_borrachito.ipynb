{
  "nbformat": 4,
  "nbformat_minor": 0,
  "metadata": {
    "colab": {
      "name": "el borrachito.ipynb",
      "provenance": [],
      "authorship_tag": "ABX9TyPNWXyh0Nt8G6xJaN3NybZ+",
      "include_colab_link": true
    },
    "kernelspec": {
      "name": "python3",
      "display_name": "Python 3"
    }
  },
  "cells": [
    {
      "cell_type": "markdown",
      "metadata": {
        "id": "view-in-github",
        "colab_type": "text"
      },
      "source": [
        "<a href=\"https://colab.research.google.com/github/CR-Reyes/Fiscomp/blob/master/el_borrachito.ipynb\" target=\"_parent\"><img src=\"https://colab.research.google.com/assets/colab-badge.svg\" alt=\"Open In Colab\"/></a>"
      ]
    },
    {
      "cell_type": "markdown",
      "metadata": {
        "id": "cbuWjMtjmH8L",
        "colab_type": "text"
      },
      "source": [
        "\n",
        "\n",
        "# Ejercicio del borrachito\n",
        "\n"
      ]
    },
    {
      "cell_type": "markdown",
      "metadata": {
        "id": "odYQKM_rwtnt",
        "colab_type": "text"
      },
      "source": [
        "- Agregar portada como tarea 1"
      ]
    },
    {
      "cell_type": "code",
      "metadata": {
        "id": "vz-Cuzrb8BtY",
        "colab_type": "code",
        "colab": {}
      },
      "source": [
        "import random\n",
        "\n",
        "## Natural -> Entero\n",
        "## produce la posición del borrachito, positivo es a la derecha\n",
        "## negativo es a la izquierda\n",
        "## ejemplos:\n",
        "def test_borrachito():\n",
        "    assert borrachito(0) == 0              #inferior boundary\n",
        "    assert borrachito(1) == (1 or 0) or -1 #midstep\n",
        "    assert borrachito(10) <= 10            #superior boundary\n",
        "\n",
        "def borrachito(pasos):\n",
        "    posicion = 0\n",
        "    for _ in range(pasos):\n",
        "        paso = random.choice([-1, 1])\n",
        "        posicion += paso\n",
        "    return posicion\n",
        "\n",
        "test_borrachito()"
      ],
      "execution_count": null,
      "outputs": []
    },
    {
      "cell_type": "code",
      "metadata": {
        "id": "XSGDJxCbbB3N",
        "colab_type": "code",
        "colab": {}
      },
      "source": [
        "## Natural -> Entero\n",
        "## produce la posición promedio del borrachito despues de n simulaciones\n",
        "## dado que el borrachito camina 100 pasos por simulacion\n",
        "## ejemplos:\n",
        "def test_borrachito_n_veces():\n",
        "    assert borrachito_n_veces(10) >= -100\n",
        "    assert borrachito_n_veces(19) <= 100\n",
        "\n",
        "def borrachito_n_veces(n):\n",
        "    acumulado = 0\n",
        "    for _ in range(n):\n",
        "        acumulado += abs(borrachito(1000))\n",
        "    return acumulado / n  #posicion promedio\n",
        "\n",
        "test_borrachito_n_veces()"
      ],
      "execution_count": null,
      "outputs": []
    },
    {
      "cell_type": "code",
      "metadata": {
        "id": "HQIFrTu4jhL9",
        "colab_type": "code",
        "colab": {
          "base_uri": "https://localhost:8080/",
          "height": 295
        },
        "outputId": "0b376e69-262e-4753-d7b1-2d998ab6136d"
      },
      "source": [
        "import numpy as np\n",
        "import matplotlib.pyplot as plt\n",
        "\n",
        "n = 50  #numero (Natural) de simulaciones\n",
        "random.seed(1)\n",
        "x = np.arange(n)+1\n",
        "fn_vectorizada = np.vectorize(borrachito_n_veces)\n",
        "plt.scatter(x, fn_vectorizada(x))\n",
        "plt.grid()\n",
        "plt.title(\"Posición promedio del borrachito después de 100 pasos\")\n",
        "plt.xlabel(\"Número de simulaciones\")\n",
        "plt.ylabel(\"Pasos a la derecha\")\n",
        "plt.show()"
      ],
      "execution_count": null,
      "outputs": [
        {
          "output_type": "display_data",
          "data": {
            "image/png": "[encoded data removed]",
            "text/plain": [
              "<Figure size 432x288 with 1 Axes>"
            ]
          },
          "metadata": {
            "tags": [],
            "needs_background": "light"
          }
        }
      ]
    }
  ]
}